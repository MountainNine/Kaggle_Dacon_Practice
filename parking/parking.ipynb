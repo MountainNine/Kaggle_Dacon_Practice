{
 "cells": [
  {
   "cell_type": "code",
   "execution_count": 1,
   "metadata": {},
   "outputs": [
    {
     "ename": "NameError",
     "evalue": "name 'pre_processing' is not defined",
     "output_type": "error",
     "traceback": [
      "\u001b[1;31m---------------------------------------------------------------------------\u001b[0m",
      "\u001b[1;31mNameError\u001b[0m                                 Traceback (most recent call last)",
      "\u001b[1;32m<ipython-input-1-4ecef50787c7>\u001b[0m in \u001b[0;36m<module>\u001b[1;34m\u001b[0m\n\u001b[0;32m     46\u001b[0m     \u001b[0mtest\u001b[0m\u001b[1;33m.\u001b[0m\u001b[0mloc\u001b[0m\u001b[1;33m[\u001b[0m\u001b[0mtest\u001b[0m\u001b[1;33m[\u001b[0m\u001b[1;34m'자격유형'\u001b[0m\u001b[1;33m]\u001b[0m\u001b[1;33m.\u001b[0m\u001b[0misnull\u001b[0m\u001b[1;33m(\u001b[0m\u001b[1;33m)\u001b[0m \u001b[1;33m==\u001b[0m \u001b[1;32mTrue\u001b[0m\u001b[1;33m,\u001b[0m \u001b[1;33m[\u001b[0m\u001b[1;34m'자격유형'\u001b[0m\u001b[1;33m]\u001b[0m\u001b[1;33m]\u001b[0m \u001b[1;33m=\u001b[0m \u001b[1;33m(\u001b[0m\u001b[1;34m'A'\u001b[0m\u001b[1;33m,\u001b[0m \u001b[1;34m'C'\u001b[0m\u001b[1;33m)\u001b[0m\u001b[1;33m\u001b[0m\u001b[1;33m\u001b[0m\u001b[0m\n\u001b[0;32m     47\u001b[0m \u001b[1;33m\u001b[0m\u001b[0m\n\u001b[1;32m---> 48\u001b[1;33m \u001b[0mnew_train\u001b[0m \u001b[1;33m=\u001b[0m \u001b[0mpre_processing\u001b[0m\u001b[1;33m(\u001b[0m\u001b[0mtrain\u001b[0m\u001b[1;33m,\u001b[0m \u001b[1;32mTrue\u001b[0m\u001b[1;33m)\u001b[0m\u001b[1;33m\u001b[0m\u001b[1;33m\u001b[0m\u001b[0m\n\u001b[0m\u001b[0;32m     49\u001b[0m \u001b[0mnew_test\u001b[0m \u001b[1;33m=\u001b[0m \u001b[0mpre_processing\u001b[0m\u001b[1;33m(\u001b[0m\u001b[0mtest\u001b[0m\u001b[1;33m,\u001b[0m \u001b[1;32mFalse\u001b[0m\u001b[1;33m)\u001b[0m\u001b[1;33m\u001b[0m\u001b[1;33m\u001b[0m\u001b[0m\n\u001b[0;32m     50\u001b[0m \u001b[1;32mfor\u001b[0m \u001b[0mc\u001b[0m \u001b[1;32min\u001b[0m \u001b[0mdiffer_variables\u001b[0m\u001b[1;33m:\u001b[0m\u001b[1;33m\u001b[0m\u001b[1;33m\u001b[0m\u001b[0m\n",
      "\u001b[1;31mNameError\u001b[0m: name 'pre_processing' is not defined"
     ]
    }
   ],
   "source": [
    "import warnings\n",
    "\n",
    "import matplotlib.pyplot as plt\n",
    "import numpy as np\n",
    "import pandas as pd\n",
    "from sklearn.ensemble import RandomForestRegressor\n",
    "from sklearn.metrics import mean_absolute_error\n",
    "from sklearn.model_selection import train_test_split, GridSearchCV, cross_val_score\n",
    "from tqdm import tqdm\n",
    "\n",
    "warnings.filterwarnings('ignore')\n",
    "\n",
    "train = pd.read_csv(\"./data/train.csv\")\n",
    "test = pd.read_csv(\"./data/test.csv\")\n",
    "sample_submission = pd.read_csv(\"./data/sample_submission.csv\")\n",
    "plt.rc('font', family='NanumGothic')\n",
    "plt.rc('axes', unicode_minus=False)\n",
    "\n",
    "train.columns = [\n",
    "    '단지코드', '총세대수', '임대건물구분', '지역', '공급유형', '전용면적', '전용면적별세대수', '공가수', '자격유형',\n",
    "    '임대보증금', '임대료', '지하철', '버스',\n",
    "    '단지내주차면수', '등록차량수'\n",
    "]\n",
    "\n",
    "test.columns = [\n",
    "    '단지코드', '총세대수', '임대건물구분', '지역', '공급유형', '전용면적', '전용면적별세대수', '공가수', '자격유형',\n",
    "    '임대보증금', '임대료', '지하철', '버스',\n",
    "    '단지내주차면수'\n",
    "]\n",
    "\n",
    "categorial_variable = [\"임대건물구분\", \"지역\", \"공급유형\", \"자격유형\"]\n",
    "continious_variable = [\"총세대수\", \"전용면적\", \"전용면적별세대수\", \"공가수\", \"임대보증금\", \"임대료\",\n",
    "                       \"단지내주차면수\"]\n",
    "\n",
    "# test_x_unique\n",
    "# gbr: 72.57647194273466\n",
    "# rfr: 19.73668358714044\n",
    "# {'max_depth': 12, 'min_samples_leaf': 8, 'min_samples_split': 16, 'n_estimators': 100} -62.07652539964124\n",
    "# 144.17 143.65\n"
   ]
  },
  {
   "cell_type": "code",
   "execution_count": 2,
   "metadata": {},
   "outputs": [
    {
     "name": "stderr",
     "output_type": "stream",
     "text": [
      "423it [00:05, 72.91it/s]\n",
      "150it [00:01, 82.43it/s]\n"
     ]
    }
   ],
   "source": [
    "def pre_processing(x, flag):\n",
    "    x = x.fillna(0)\n",
    "    x.loc[x['임대료'] == '-', ['임대료']] = 0\n",
    "    x.loc[x['임대보증금'] == '-', ['임대보증금']] = 0\n",
    "    x[['임대료', '임대보증금']] = x[['임대료', '임대보증금']].astype('int64')\n",
    "\n",
    "    x['전용면적'] = x['전용면적'] // 7 * 7\n",
    "    idx = x[x['전용면적'] > 100].index\n",
    "    x.loc[idx, '전용면적'] = 100\n",
    "    idx = x[x['전용면적'] < 15].index\n",
    "    x.loc[idx, '전용면적'] = 15\n",
    "    columns = ['단지코드', '총세대수', '공가수', '지역', '단지내주차면수', '지하철', '버스', '공급유형', '임대건물구분', '자격유형']\n",
    "    target = \"등록차량수\"\n",
    "    area_columns = []\n",
    "    for area in x['전용면적'].unique():\n",
    "        area_columns.append(f'면적_{area}')\n",
    "\n",
    "    new_x = pd.DataFrame()\n",
    "    for i, code in tqdm(enumerate(x['단지코드'].unique())):\n",
    "        temp = x[x['단지코드'] == code]\n",
    "        temp.index = range(temp.shape[0])\n",
    "        for col in columns:\n",
    "            new_x.loc[i, col] = temp.loc[0, col]\n",
    "\n",
    "        for col in area_columns:\n",
    "            area = float(col.split('_')[-1])\n",
    "            new_x.loc[i, col] = temp[temp['전용면적'] == area]['전용면적별세대수'].sum()\n",
    "\n",
    "        if flag == True:\n",
    "            new_x.loc[i, '등록차량수'] = temp.loc[0, '등록차량수']\n",
    "\n",
    "    new_x = pd.get_dummies(new_x, columns=categorial_variable)\n",
    "    new_x = new_x[[c for c in new_x if c not in ['등록차량수']] + [c for c in ['등록차량수'] if c in new_x]]\n",
    "    # scaler = RobustScaler()\n",
    "    # x[continious_variable] = scaler.fit_transform(x[continious_variable])\n",
    "    return new_x\n",
    "\n",
    "differ_variables = ['공급유형_공공임대(5년)', '공급유형_공공임대(10년)', '자격유형_B', '자격유형_F',\n",
    "                    '지역_서울특별시', '공급유형_공공분양', '공급유형_장기전세', '자격유형_D',\n",
    "                    '면적_63.0']\n",
    "\n",
    "if len(test[test['자격유형'].isnull() == True]) > 0:\n",
    "    test.loc[test['자격유형'].isnull() == True, ['자격유형']] = ('A', 'C')\n",
    "\n",
    "new_train = pre_processing(train, True)\n",
    "new_test = pre_processing(test, False)\n"
   ]
  },
  {
   "cell_type": "code",
   "execution_count": 3,
   "metadata": {},
   "outputs": [],
   "source": [
    "for c in differ_variables:\n",
    "    new_test[c] = 0\n",
    "\n",
    "x_train = new_train.iloc[:, 1:-1]\n",
    "y_train = new_train.iloc[:, -1]\n",
    "x_test = new_test.iloc[:, 1:]\n",
    "\n",
    "rfr = RandomForestRegressor(n_estimators=200, max_depth=15, min_samples_leaf=1,\n",
    "                            min_samples_split=4, random_state=46)\n",
    "model = rfr\n",
    "train_X, test_X, train_y, test_y = train_test_split(x_train, y_train, test_size=0.2, random_state=93)\n"
   ]
  },
  {
   "cell_type": "code",
   "execution_count": 4,
   "metadata": {},
   "outputs": [
    {
     "name": "stdout",
     "output_type": "stream",
     "text": [
      "121.63929562893577\n"
     ]
    }
   ],
   "source": [
    "model.fit(train_X, train_y)\n",
    "pred = model.predict(test_X)\n",
    "print(mean_absolute_error(test_y, pred))\n"
   ]
  },
  {
   "cell_type": "code",
   "execution_count": 5,
   "metadata": {},
   "outputs": [
    {
     "name": "stdout",
     "output_type": "stream",
     "text": [
      "144.13400484438833\n"
     ]
    }
   ],
   "source": [
    "cv_score = cross_val_score(model, x_train, y_train, scoring='neg_mean_absolute_error', cv=5, n_jobs=-1)\n",
    "print(np.mean(cv_score * -1))\n"
   ]
  },
  {
   "cell_type": "code",
   "execution_count": 12,
   "metadata": {},
   "outputs": [
    {
     "name": "stdout",
     "output_type": "stream",
     "text": [
      "{'max_depth': 15, 'min_samples_leaf': 1, 'min_samples_split': 4, 'n_estimators': 200} -144.13400484438833\n",
      "67.69274977202578\n"
     ]
    }
   ],
   "source": [
    "params = {\n",
    "        'n_estimators': [200],\n",
    "        'max_depth': [15],\n",
    "        'min_samples_leaf': [1],\n",
    "        'min_samples_split': [4],\n",
    "    }\n",
    "grid = GridSearchCV(rfr, param_grid=params, cv=5, scoring='neg_mean_absolute_error', n_jobs=-1)\n",
    "grid.fit(x_train, y_train)\n",
    "pred = grid.predict(x_test)\n",
    "\n",
    "print(grid.best_params_, grid.best_score_)\n",
    "print(mean_absolute_error(x_test['단지내주차면수'],pred))"
   ]
  },
  {
   "cell_type": "code",
   "execution_count": 10,
   "metadata": {},
   "outputs": [
    {
     "ename": "SyntaxError",
     "evalue": "invalid syntax (<ipython-input-10-63aef8b1908f>, line 2)",
     "output_type": "error",
     "traceback": [
      "\u001b[1;36m  File \u001b[1;32m\"<ipython-input-10-63aef8b1908f>\"\u001b[1;36m, line \u001b[1;32m2\u001b[0m\n\u001b[1;33m    df = pd.DataFrame()\u001b[0m\n\u001b[1;37m     ^\u001b[0m\n\u001b[1;31mSyntaxError\u001b[0m\u001b[1;31m:\u001b[0m invalid syntax\n"
     ]
    }
   ],
   "source": [
    "model.fit(x_train, y_trai\n",
    "df = pd.DataFrame()\n",
    "df['column'] = x_train.columns\n",
    "df['coef'] = model.feature_importances_\n",
    "print(df.sort_values('coef', ascending=False).head(10))"
   ]
  },
  {
   "cell_type": "code",
   "execution_count": null,
   "metadata": {},
   "outputs": [],
   "source": [
    "model.fit(x_train, y_train)\n",
    "pred = model.predict(x_test)\n",
    "sample_submission['num'] = pred\n",
    "sample_submission.to_csv('./result/result6_1.csv', index=False)"
   ]
  },
  {
   "cell_type": "code",
   "execution_count": 25,
   "metadata": {},
   "outputs": [
    {
     "data": {
      "text/plain": [
       "20.00650756187376"
      ]
     },
     "execution_count": 25,
     "metadata": {},
     "output_type": "execute_result"
    }
   ],
   "source": [
    "best_score = pd.read_csv('./result/result4_2.csv')['num']\n",
    "current_score = pd.read_csv('./result/result6_1.csv')['num']\n",
    "mean_absolute_error(best_score, current_score)"
   ]
  }
 ],
 "metadata": {
  "kernelspec": {
   "display_name": "Python 3",
   "language": "python",
   "name": "python3"
  },
  "language_info": {
   "codemirror_mode": {
    "name": "ipython",
    "version": 3
   },
   "file_extension": ".py",
   "mimetype": "text/x-python",
   "name": "python",
   "nbconvert_exporter": "python",
   "pygments_lexer": "ipython3",
   "version": "3.7.9"
  },
  "toc": {
   "base_numbering": 1,
   "nav_menu": {},
   "number_sections": true,
   "sideBar": true,
   "skip_h1_title": false,
   "title_cell": "Table of Contents",
   "title_sidebar": "Contents",
   "toc_cell": false,
   "toc_position": {},
   "toc_section_display": true,
   "toc_window_display": false
  }
 },
 "nbformat": 4,
 "nbformat_minor": 4
}
